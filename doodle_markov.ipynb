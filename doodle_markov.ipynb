{
 "cells": [
  {
   "cell_type": "markdown",
   "id": "3c1dacc9-806d-4797-ba75-97a24ff13b49",
   "metadata": {},
   "source": [
    "### load data"
   ]
  },
  {
   "cell_type": "code",
   "execution_count": 1,
   "id": "27e44bef-eda7-4146-a3af-59d350ada90b",
   "metadata": {},
   "outputs": [],
   "source": [
    "import pandas as pd\n",
    "import matplotlib.pyplot as plt\n",
    "import numpy as np"
   ]
  },
  {
   "cell_type": "code",
   "execution_count": 2,
   "id": "3bb6de93-5974-478f-bb83-4c3246c15980",
   "metadata": {},
   "outputs": [],
   "source": [
    "dfl = []"
   ]
  },
  {
   "cell_type": "code",
   "execution_count": 3,
   "id": "f19c1ddf-fa24-490c-b211-c83da4b6afbb",
   "metadata": {},
   "outputs": [],
   "source": [
    "fnl = ['monday', 'tuesday', 'wednesday', 'thursday', 'friday']"
   ]
  },
  {
   "cell_type": "code",
   "execution_count": 4,
   "id": "fc3ff02d-0f72-4953-993e-53ecbd3a8db6",
   "metadata": {},
   "outputs": [
    {
     "name": "stdout",
     "output_type": "stream",
     "text": [
      "read monday\n",
      "read tuesday\n",
      "read wednesday\n",
      "read thursday\n",
      "read friday\n"
     ]
    }
   ],
   "source": [
    "for filename in fnl:\n",
    "    df = pd.read_csv(f'../data/{filename}.csv', delimiter=';')\n",
    "    dfl.append(df)\n",
    "    print(f'read {filename}')"
   ]
  },
  {
   "cell_type": "code",
   "execution_count": 5,
   "id": "60ea6bb6-666b-417c-bc03-11d64b171c41",
   "metadata": {},
   "outputs": [],
   "source": [
    "for df in dfl:\n",
    "    df['timestamp'] = pd.to_datetime(df['timestamp'])\n",
    "    df.rename(columns = {'customer_no':'customer'}, inplace = True)"
   ]
  },
  {
   "cell_type": "code",
   "execution_count": 6,
   "id": "2053c3c5-43c0-49e0-9011-ef0abffe73fc",
   "metadata": {},
   "outputs": [
    {
     "data": {
      "text/html": [
       "<div>\n",
       "<style scoped>\n",
       "    .dataframe tbody tr th:only-of-type {\n",
       "        vertical-align: middle;\n",
       "    }\n",
       "\n",
       "    .dataframe tbody tr th {\n",
       "        vertical-align: top;\n",
       "    }\n",
       "\n",
       "    .dataframe thead th {\n",
       "        text-align: right;\n",
       "    }\n",
       "</style>\n",
       "<table border=\"1\" class=\"dataframe\">\n",
       "  <thead>\n",
       "    <tr style=\"text-align: right;\">\n",
       "      <th></th>\n",
       "      <th>timestamp</th>\n",
       "      <th>customer</th>\n",
       "      <th>location</th>\n",
       "    </tr>\n",
       "  </thead>\n",
       "  <tbody>\n",
       "    <tr>\n",
       "      <th>0</th>\n",
       "      <td>2019-09-02 07:03:00</td>\n",
       "      <td>1</td>\n",
       "      <td>dairy</td>\n",
       "    </tr>\n",
       "    <tr>\n",
       "      <th>1</th>\n",
       "      <td>2019-09-02 07:03:00</td>\n",
       "      <td>2</td>\n",
       "      <td>dairy</td>\n",
       "    </tr>\n",
       "    <tr>\n",
       "      <th>2</th>\n",
       "      <td>2019-09-02 07:04:00</td>\n",
       "      <td>3</td>\n",
       "      <td>dairy</td>\n",
       "    </tr>\n",
       "    <tr>\n",
       "      <th>3</th>\n",
       "      <td>2019-09-02 07:04:00</td>\n",
       "      <td>4</td>\n",
       "      <td>dairy</td>\n",
       "    </tr>\n",
       "    <tr>\n",
       "      <th>4</th>\n",
       "      <td>2019-09-02 07:04:00</td>\n",
       "      <td>5</td>\n",
       "      <td>spices</td>\n",
       "    </tr>\n",
       "    <tr>\n",
       "      <th>...</th>\n",
       "      <td>...</td>\n",
       "      <td>...</td>\n",
       "      <td>...</td>\n",
       "    </tr>\n",
       "    <tr>\n",
       "      <th>4879</th>\n",
       "      <td>2019-09-02 21:49:00</td>\n",
       "      <td>1442</td>\n",
       "      <td>checkout</td>\n",
       "    </tr>\n",
       "    <tr>\n",
       "      <th>4880</th>\n",
       "      <td>2019-09-02 21:49:00</td>\n",
       "      <td>1444</td>\n",
       "      <td>checkout</td>\n",
       "    </tr>\n",
       "    <tr>\n",
       "      <th>4881</th>\n",
       "      <td>2019-09-02 21:49:00</td>\n",
       "      <td>1445</td>\n",
       "      <td>dairy</td>\n",
       "    </tr>\n",
       "    <tr>\n",
       "      <th>4882</th>\n",
       "      <td>2019-09-02 21:50:00</td>\n",
       "      <td>1446</td>\n",
       "      <td>dairy</td>\n",
       "    </tr>\n",
       "    <tr>\n",
       "      <th>4883</th>\n",
       "      <td>2019-09-02 21:50:00</td>\n",
       "      <td>1447</td>\n",
       "      <td>fruit</td>\n",
       "    </tr>\n",
       "  </tbody>\n",
       "</table>\n",
       "<p>4884 rows × 3 columns</p>\n",
       "</div>"
      ],
      "text/plain": [
       "               timestamp  customer  location\n",
       "0    2019-09-02 07:03:00         1     dairy\n",
       "1    2019-09-02 07:03:00         2     dairy\n",
       "2    2019-09-02 07:04:00         3     dairy\n",
       "3    2019-09-02 07:04:00         4     dairy\n",
       "4    2019-09-02 07:04:00         5    spices\n",
       "...                  ...       ...       ...\n",
       "4879 2019-09-02 21:49:00      1442  checkout\n",
       "4880 2019-09-02 21:49:00      1444  checkout\n",
       "4881 2019-09-02 21:49:00      1445     dairy\n",
       "4882 2019-09-02 21:50:00      1446     dairy\n",
       "4883 2019-09-02 21:50:00      1447     fruit\n",
       "\n",
       "[4884 rows x 3 columns]"
      ]
     },
     "execution_count": 6,
     "metadata": {},
     "output_type": "execute_result"
    }
   ],
   "source": [
    "dfl[0]"
   ]
  },
  {
   "cell_type": "markdown",
   "id": "09bca089-5468-46c5-8b1a-aa867987532c",
   "metadata": {},
   "source": [
    "### add checkout if missing"
   ]
  },
  {
   "cell_type": "code",
   "execution_count": 7,
   "id": "a96d953a-ab00-4fd1-9775-6b9b701cd805",
   "metadata": {},
   "outputs": [
    {
     "name": "stdout",
     "output_type": "stream",
     "text": [
      "2019-09-02 07:03:00\n",
      "2019-09-02 21:51:00\n",
      "customer 1430 force checkout\n",
      "customer 1433 force checkout\n",
      "customer 1437 force checkout\n",
      "customer 1439 force checkout\n",
      "customer 1440 force checkout\n",
      "customer 1441 force checkout\n",
      "customer 1443 force checkout\n",
      "customer 1445 force checkout\n",
      "customer 1446 force checkout\n",
      "customer 1447 force checkout\n",
      "1447 1447\n",
      "2019-09-03 07:02:00\n",
      "2019-09-03 21:51:00\n",
      "customer 1411 force checkout\n",
      "customer 1422 force checkout\n",
      "1422 1422\n",
      "2019-09-04 07:00:00\n",
      "2019-09-04 21:50:00\n",
      "customer 1520 force checkout\n",
      "customer 1527 force checkout\n",
      "customer 1528 force checkout\n",
      "customer 1529 force checkout\n",
      "customer 1530 force checkout\n",
      "1531 1531\n",
      "2019-09-05 07:00:00\n",
      "2019-09-05 21:50:00\n",
      "customer 1527 force checkout\n",
      "customer 1532 force checkout\n",
      "customer 1533 force checkout\n",
      "1535 1535\n",
      "2019-09-06 07:00:00\n",
      "2019-09-06 21:51:00\n",
      "customer 1494 force checkout\n",
      "customer 1496 force checkout\n",
      "customer 1500 force checkout\n",
      "customer 1503 force checkout\n",
      "customer 1505 force checkout\n",
      "customer 1506 force checkout\n",
      "customer 1509 force checkout\n",
      "customer 1510 force checkout\n",
      "1510 1510\n",
      "done\n"
     ]
    }
   ],
   "source": [
    "for df in dfl:\n",
    "    \n",
    "    opening_time = df.timestamp.min()\n",
    "    closing_time = df.timestamp.max() + pd.DateOffset(minutes=1)\n",
    "    print(opening_time)\n",
    "    print(closing_time)\n",
    "    \n",
    "    for i in df.customer.unique():\n",
    "        if df[(df.customer == i) & (df.location == 'checkout')].empty:\n",
    "            df.loc[len(df)] = [closing_time, i, 'checkout']\n",
    "            print(f'customer {i} force checkout')\n",
    "    print(df.customer.max() , df[df.location == 'checkout'].location.count())\n",
    "\n",
    "print('done')"
   ]
  },
  {
   "cell_type": "code",
   "execution_count": 8,
   "id": "6f7bbf79-97ee-4646-84c3-4ffd9114ab1b",
   "metadata": {},
   "outputs": [
    {
     "data": {
      "text/plain": [
       "24905"
      ]
     },
     "execution_count": 8,
     "metadata": {},
     "output_type": "execute_result"
    }
   ],
   "source": [
    "# total count of entries\n",
    "n_total = 0\n",
    "for df in dfl:\n",
    "    n_total += df.shape[0]\n",
    "n_total"
   ]
  },
  {
   "cell_type": "markdown",
   "id": "4ccbbdb5-2f52-4008-affe-195070aebe5e",
   "metadata": {},
   "source": [
    "### customer filter test area"
   ]
  },
  {
   "cell_type": "code",
   "execution_count": 13,
   "id": "31adf300-97bb-4952-8c60-bc68eab4fd14",
   "metadata": {},
   "outputs": [
    {
     "data": {
      "text/html": [
       "<div>\n",
       "<style scoped>\n",
       "    .dataframe tbody tr th:only-of-type {\n",
       "        vertical-align: middle;\n",
       "    }\n",
       "\n",
       "    .dataframe tbody tr th {\n",
       "        vertical-align: top;\n",
       "    }\n",
       "\n",
       "    .dataframe thead th {\n",
       "        text-align: right;\n",
       "    }\n",
       "</style>\n",
       "<table border=\"1\" class=\"dataframe\">\n",
       "  <thead>\n",
       "    <tr style=\"text-align: right;\">\n",
       "      <th></th>\n",
       "      <th>timestamp</th>\n",
       "      <th>customer</th>\n",
       "      <th>location</th>\n",
       "    </tr>\n",
       "  </thead>\n",
       "  <tbody>\n",
       "    <tr>\n",
       "      <th>1477</th>\n",
       "      <td>2019-09-02 12:05:00</td>\n",
       "      <td>446</td>\n",
       "      <td>dairy</td>\n",
       "    </tr>\n",
       "    <tr>\n",
       "      <th>1487</th>\n",
       "      <td>2019-09-02 12:08:00</td>\n",
       "      <td>446</td>\n",
       "      <td>fruit</td>\n",
       "    </tr>\n",
       "    <tr>\n",
       "      <th>1493</th>\n",
       "      <td>2019-09-02 12:10:00</td>\n",
       "      <td>446</td>\n",
       "      <td>dairy</td>\n",
       "    </tr>\n",
       "    <tr>\n",
       "      <th>1497</th>\n",
       "      <td>2019-09-02 12:11:00</td>\n",
       "      <td>446</td>\n",
       "      <td>checkout</td>\n",
       "    </tr>\n",
       "  </tbody>\n",
       "</table>\n",
       "</div>"
      ],
      "text/plain": [
       "               timestamp  customer  location\n",
       "1477 2019-09-02 12:05:00       446     dairy\n",
       "1487 2019-09-02 12:08:00       446     fruit\n",
       "1493 2019-09-02 12:10:00       446     dairy\n",
       "1497 2019-09-02 12:11:00       446  checkout"
      ]
     },
     "execution_count": 13,
     "metadata": {},
     "output_type": "execute_result"
    }
   ],
   "source": [
    "mydf = dfl[0][dfl[0].customer == 446]\n",
    "mydf"
   ]
  },
  {
   "cell_type": "code",
   "execution_count": 15,
   "id": "22b81d51-d9db-4c5d-997a-ddd653341c34",
   "metadata": {},
   "outputs": [
    {
     "data": {
      "text/plain": [
       "1497"
      ]
     },
     "execution_count": 15,
     "metadata": {},
     "output_type": "execute_result"
    }
   ],
   "source": [
    "mydf.index.max()"
   ]
  },
  {
   "cell_type": "code",
   "execution_count": 18,
   "id": "1859e99b-0cfe-40b6-bddb-73b8a2a7ba9d",
   "metadata": {},
   "outputs": [
    {
     "data": {
      "text/plain": [
       "'checkout'"
      ]
     },
     "execution_count": 18,
     "metadata": {},
     "output_type": "execute_result"
    }
   ],
   "source": [
    "mydf.iloc[-1].location"
   ]
  },
  {
   "cell_type": "code",
   "execution_count": 29,
   "id": "1aad45c0-7501-47f0-a014-635d8c3c50ea",
   "metadata": {},
   "outputs": [
    {
     "data": {
      "text/plain": [
       "3.0"
      ]
     },
     "execution_count": 29,
     "metadata": {},
     "output_type": "execute_result"
    }
   ],
   "source": [
    "(mydf.iloc[1]['timestamp'] - mydf.iloc[0]['timestamp']) / pd.Timedelta(minutes=1)"
   ]
  },
  {
   "cell_type": "markdown",
   "id": "ddd45575-cb73-4da3-81a7-c4fb8eaf5781",
   "metadata": {},
   "source": [
    "### create transition dataframe"
   ]
  },
  {
   "cell_type": "code",
   "execution_count": 113,
   "id": "778a0494-2b02-4bd5-bb45-fd4e3c6d42f5",
   "metadata": {},
   "outputs": [
    {
     "name": "stdout",
     "output_type": "stream",
     "text": [
      "(4894, 3)\n",
      "(4716, 3)\n",
      "(5055, 3)\n",
      "(5107, 3)\n",
      "(5133, 3)\n"
     ]
    }
   ],
   "source": [
    "transitions = pd.DataFrame(columns=['location', 'following'])\n",
    "\n",
    "for df in dfl:\n",
    "    for cid in df.customer.unique():\n",
    "        transitions = transitions.append(df[df.customer == cid][['location']], ignore_index=True)\n",
    "    print(df.shape)"
   ]
  },
  {
   "cell_type": "code",
   "execution_count": 33,
   "id": "62035607-b4ac-4c98-bc26-574084951d5c",
   "metadata": {},
   "outputs": [],
   "source": [
    "# append rows to empty dataframe\n",
    "# PROFILING: took 165 s"
   ]
  },
  {
   "cell_type": "code",
   "execution_count": 42,
   "id": "af450946-fbdd-43f8-ac16-afc068488785",
   "metadata": {},
   "outputs": [
    {
     "name": "stdout",
     "output_type": "stream",
     "text": [
      "4894\n",
      "9610\n",
      "14665\n",
      "19772\n",
      "24905\n"
     ]
    }
   ],
   "source": [
    "transitions = pd.DataFrame(' ', index=np.arange(n_total), columns=['location', 'following'])\n",
    "\n",
    "i = 0\n",
    "for df in dfl:\n",
    "    for cid in df.customer.unique():\n",
    "        for index, row in df[df.customer == cid].iterrows():\n",
    "            transitions.at[i, 'location'] = row.location\n",
    "            i += 1\n",
    "    print(i)"
   ]
  },
  {
   "cell_type": "code",
   "execution_count": 31,
   "id": "0dead549-d084-4c55-9fb7-617002041ea7",
   "metadata": {},
   "outputs": [],
   "source": [
    "# set values in dataframe with dummy rows\n",
    "# PROFILING: took 15 s"
   ]
  },
  {
   "cell_type": "code",
   "execution_count": 43,
   "id": "353966b9-f666-47ed-b6a1-654ff5e13047",
   "metadata": {},
   "outputs": [
    {
     "name": "stdout",
     "output_type": "stream",
     "text": [
      "4894\n",
      "9610\n",
      "14665\n",
      "19772\n",
      "24905\n"
     ]
    }
   ],
   "source": [
    "trans_arr = np.full((n_total, 2), ' ', dtype='<U8')\n",
    "\n",
    "i = 0\n",
    "for df in dfl:\n",
    "    for cid in df.customer.unique():\n",
    "        for index, row in df[df.customer == cid].iterrows():\n",
    "            trans_arr[i][0] = row.location\n",
    "            i += 1\n",
    "    print(i)\n",
    "\n",
    "transitions = pd.DataFrame(trans_arr, columns=['location', 'following'])"
   ]
  },
  {
   "cell_type": "code",
   "execution_count": 32,
   "id": "801b769a-a581-44c7-a595-0b50761e0720",
   "metadata": {},
   "outputs": [],
   "source": [
    "# set values in numpy array, in the end make dataframe\n",
    "# PROFILING: took 10 s"
   ]
  },
  {
   "cell_type": "markdown",
   "id": "e1ca4db7-51ab-4bc8-baf8-418223710ad3",
   "metadata": {},
   "source": [
    "### shift rows"
   ]
  },
  {
   "cell_type": "code",
   "execution_count": 44,
   "id": "6e0299cf-18f3-4e22-82e8-e2593b45b40b",
   "metadata": {},
   "outputs": [
    {
     "data": {
      "text/html": [
       "<div>\n",
       "<style scoped>\n",
       "    .dataframe tbody tr th:only-of-type {\n",
       "        vertical-align: middle;\n",
       "    }\n",
       "\n",
       "    .dataframe tbody tr th {\n",
       "        vertical-align: top;\n",
       "    }\n",
       "\n",
       "    .dataframe thead th {\n",
       "        text-align: right;\n",
       "    }\n",
       "</style>\n",
       "<table border=\"1\" class=\"dataframe\">\n",
       "  <thead>\n",
       "    <tr style=\"text-align: right;\">\n",
       "      <th></th>\n",
       "      <th>location</th>\n",
       "      <th>following</th>\n",
       "    </tr>\n",
       "  </thead>\n",
       "  <tbody>\n",
       "    <tr>\n",
       "      <th>0</th>\n",
       "      <td>dairy</td>\n",
       "      <td></td>\n",
       "    </tr>\n",
       "    <tr>\n",
       "      <th>1</th>\n",
       "      <td>checkout</td>\n",
       "      <td></td>\n",
       "    </tr>\n",
       "    <tr>\n",
       "      <th>2</th>\n",
       "      <td>dairy</td>\n",
       "      <td></td>\n",
       "    </tr>\n",
       "    <tr>\n",
       "      <th>3</th>\n",
       "      <td>checkout</td>\n",
       "      <td></td>\n",
       "    </tr>\n",
       "    <tr>\n",
       "      <th>4</th>\n",
       "      <td>dairy</td>\n",
       "      <td></td>\n",
       "    </tr>\n",
       "    <tr>\n",
       "      <th>...</th>\n",
       "      <td>...</td>\n",
       "      <td>...</td>\n",
       "    </tr>\n",
       "    <tr>\n",
       "      <th>24900</th>\n",
       "      <td>checkout</td>\n",
       "      <td></td>\n",
       "    </tr>\n",
       "    <tr>\n",
       "      <th>24901</th>\n",
       "      <td>drinks</td>\n",
       "      <td></td>\n",
       "    </tr>\n",
       "    <tr>\n",
       "      <th>24902</th>\n",
       "      <td>checkout</td>\n",
       "      <td></td>\n",
       "    </tr>\n",
       "    <tr>\n",
       "      <th>24903</th>\n",
       "      <td>spices</td>\n",
       "      <td></td>\n",
       "    </tr>\n",
       "    <tr>\n",
       "      <th>24904</th>\n",
       "      <td>checkout</td>\n",
       "      <td></td>\n",
       "    </tr>\n",
       "  </tbody>\n",
       "</table>\n",
       "<p>24905 rows × 2 columns</p>\n",
       "</div>"
      ],
      "text/plain": [
       "       location following\n",
       "0         dairy          \n",
       "1      checkout          \n",
       "2         dairy          \n",
       "3      checkout          \n",
       "4         dairy          \n",
       "...         ...       ...\n",
       "24900  checkout          \n",
       "24901    drinks          \n",
       "24902  checkout          \n",
       "24903    spices          \n",
       "24904  checkout          \n",
       "\n",
       "[24905 rows x 2 columns]"
      ]
     },
     "execution_count": 44,
     "metadata": {},
     "output_type": "execute_result"
    }
   ],
   "source": [
    "transitions"
   ]
  },
  {
   "cell_type": "code",
   "execution_count": 45,
   "id": "1a2f713b-2071-403d-9b81-de5e35dbebd3",
   "metadata": {},
   "outputs": [],
   "source": [
    "transitions['following'] = transitions['location'].shift(-1)"
   ]
  },
  {
   "cell_type": "code",
   "execution_count": 46,
   "id": "6595649d-82e6-47f8-a774-d5a9dc7bc5fd",
   "metadata": {},
   "outputs": [
    {
     "data": {
      "text/html": [
       "<div>\n",
       "<style scoped>\n",
       "    .dataframe tbody tr th:only-of-type {\n",
       "        vertical-align: middle;\n",
       "    }\n",
       "\n",
       "    .dataframe tbody tr th {\n",
       "        vertical-align: top;\n",
       "    }\n",
       "\n",
       "    .dataframe thead th {\n",
       "        text-align: right;\n",
       "    }\n",
       "</style>\n",
       "<table border=\"1\" class=\"dataframe\">\n",
       "  <thead>\n",
       "    <tr style=\"text-align: right;\">\n",
       "      <th></th>\n",
       "      <th>location</th>\n",
       "      <th>following</th>\n",
       "    </tr>\n",
       "  </thead>\n",
       "  <tbody>\n",
       "    <tr>\n",
       "      <th>0</th>\n",
       "      <td>dairy</td>\n",
       "      <td>checkout</td>\n",
       "    </tr>\n",
       "    <tr>\n",
       "      <th>1</th>\n",
       "      <td>checkout</td>\n",
       "      <td>dairy</td>\n",
       "    </tr>\n",
       "    <tr>\n",
       "      <th>2</th>\n",
       "      <td>dairy</td>\n",
       "      <td>checkout</td>\n",
       "    </tr>\n",
       "    <tr>\n",
       "      <th>3</th>\n",
       "      <td>checkout</td>\n",
       "      <td>dairy</td>\n",
       "    </tr>\n",
       "    <tr>\n",
       "      <th>4</th>\n",
       "      <td>dairy</td>\n",
       "      <td>checkout</td>\n",
       "    </tr>\n",
       "    <tr>\n",
       "      <th>...</th>\n",
       "      <td>...</td>\n",
       "      <td>...</td>\n",
       "    </tr>\n",
       "    <tr>\n",
       "      <th>24900</th>\n",
       "      <td>checkout</td>\n",
       "      <td>drinks</td>\n",
       "    </tr>\n",
       "    <tr>\n",
       "      <th>24901</th>\n",
       "      <td>drinks</td>\n",
       "      <td>checkout</td>\n",
       "    </tr>\n",
       "    <tr>\n",
       "      <th>24902</th>\n",
       "      <td>checkout</td>\n",
       "      <td>spices</td>\n",
       "    </tr>\n",
       "    <tr>\n",
       "      <th>24903</th>\n",
       "      <td>spices</td>\n",
       "      <td>checkout</td>\n",
       "    </tr>\n",
       "    <tr>\n",
       "      <th>24904</th>\n",
       "      <td>checkout</td>\n",
       "      <td>NaN</td>\n",
       "    </tr>\n",
       "  </tbody>\n",
       "</table>\n",
       "<p>24905 rows × 2 columns</p>\n",
       "</div>"
      ],
      "text/plain": [
       "       location following\n",
       "0         dairy  checkout\n",
       "1      checkout     dairy\n",
       "2         dairy  checkout\n",
       "3      checkout     dairy\n",
       "4         dairy  checkout\n",
       "...         ...       ...\n",
       "24900  checkout    drinks\n",
       "24901    drinks  checkout\n",
       "24902  checkout    spices\n",
       "24903    spices  checkout\n",
       "24904  checkout       NaN\n",
       "\n",
       "[24905 rows x 2 columns]"
      ]
     },
     "execution_count": 46,
     "metadata": {},
     "output_type": "execute_result"
    }
   ],
   "source": [
    "transitions"
   ]
  },
  {
   "cell_type": "markdown",
   "id": "770f925c-2d76-490c-8543-d710b2b35720",
   "metadata": {},
   "source": [
    "### create markov probabilities crosstab"
   ]
  },
  {
   "cell_type": "code",
   "execution_count": 47,
   "id": "355f517d-f8c9-4953-88b1-a4509b2e9810",
   "metadata": {},
   "outputs": [],
   "source": [
    "mycrosstab = pd.crosstab(transitions['location'], transitions['following'], normalize=0)"
   ]
  },
  {
   "cell_type": "code",
   "execution_count": 48,
   "id": "6f8df3d9-bdbf-476a-870f-466a8b9691a6",
   "metadata": {},
   "outputs": [
    {
     "data": {
      "text/html": [
       "<div>\n",
       "<style scoped>\n",
       "    .dataframe tbody tr th:only-of-type {\n",
       "        vertical-align: middle;\n",
       "    }\n",
       "\n",
       "    .dataframe tbody tr th {\n",
       "        vertical-align: top;\n",
       "    }\n",
       "\n",
       "    .dataframe thead th {\n",
       "        text-align: right;\n",
       "    }\n",
       "</style>\n",
       "<table border=\"1\" class=\"dataframe\">\n",
       "  <thead>\n",
       "    <tr style=\"text-align: right;\">\n",
       "      <th>following</th>\n",
       "      <th>checkout</th>\n",
       "      <th>dairy</th>\n",
       "      <th>drinks</th>\n",
       "      <th>fruit</th>\n",
       "      <th>spices</th>\n",
       "    </tr>\n",
       "    <tr>\n",
       "      <th>location</th>\n",
       "      <th></th>\n",
       "      <th></th>\n",
       "      <th></th>\n",
       "      <th></th>\n",
       "      <th></th>\n",
       "    </tr>\n",
       "  </thead>\n",
       "  <tbody>\n",
       "    <tr>\n",
       "      <th>checkout</th>\n",
       "      <td>0.0</td>\n",
       "      <td>0.28748</td>\n",
       "      <td>0.153546</td>\n",
       "      <td>0.377485</td>\n",
       "      <td>0.181488</td>\n",
       "    </tr>\n",
       "  </tbody>\n",
       "</table>\n",
       "</div>"
      ],
      "text/plain": [
       "following  checkout    dairy    drinks     fruit    spices\n",
       "location                                                  \n",
       "checkout        0.0  0.28748  0.153546  0.377485  0.181488"
      ]
     },
     "execution_count": 48,
     "metadata": {},
     "output_type": "execute_result"
    }
   ],
   "source": [
    "myentry = mycrosstab[0:1].copy()\n",
    "myentry"
   ]
  },
  {
   "cell_type": "code",
   "execution_count": 49,
   "id": "bd814e8e-0e27-4152-81b3-729300845946",
   "metadata": {},
   "outputs": [
    {
     "data": {
      "text/html": [
       "<div>\n",
       "<style scoped>\n",
       "    .dataframe tbody tr th:only-of-type {\n",
       "        vertical-align: middle;\n",
       "    }\n",
       "\n",
       "    .dataframe tbody tr th {\n",
       "        vertical-align: top;\n",
       "    }\n",
       "\n",
       "    .dataframe thead th {\n",
       "        text-align: right;\n",
       "    }\n",
       "</style>\n",
       "<table border=\"1\" class=\"dataframe\">\n",
       "  <thead>\n",
       "    <tr style=\"text-align: right;\">\n",
       "      <th>following</th>\n",
       "      <th>checkout</th>\n",
       "      <th>dairy</th>\n",
       "      <th>drinks</th>\n",
       "      <th>fruit</th>\n",
       "      <th>spices</th>\n",
       "    </tr>\n",
       "    <tr>\n",
       "      <th>location</th>\n",
       "      <th></th>\n",
       "      <th></th>\n",
       "      <th></th>\n",
       "      <th></th>\n",
       "      <th></th>\n",
       "    </tr>\n",
       "  </thead>\n",
       "  <tbody>\n",
       "    <tr>\n",
       "      <th>checkout</th>\n",
       "      <td>1.000000</td>\n",
       "      <td>0.000000</td>\n",
       "      <td>0.000000</td>\n",
       "      <td>0.000000</td>\n",
       "      <td>0.000000</td>\n",
       "    </tr>\n",
       "    <tr>\n",
       "      <th>dairy</th>\n",
       "      <td>0.393033</td>\n",
       "      <td>0.000000</td>\n",
       "      <td>0.222483</td>\n",
       "      <td>0.189357</td>\n",
       "      <td>0.195127</td>\n",
       "    </tr>\n",
       "    <tr>\n",
       "      <th>drinks</th>\n",
       "      <td>0.537260</td>\n",
       "      <td>0.027145</td>\n",
       "      <td>0.000000</td>\n",
       "      <td>0.218950</td>\n",
       "      <td>0.216645</td>\n",
       "    </tr>\n",
       "    <tr>\n",
       "      <th>fruit</th>\n",
       "      <td>0.500195</td>\n",
       "      <td>0.237993</td>\n",
       "      <td>0.136080</td>\n",
       "      <td>0.000000</td>\n",
       "      <td>0.125732</td>\n",
       "    </tr>\n",
       "    <tr>\n",
       "      <th>spices</th>\n",
       "      <td>0.251998</td>\n",
       "      <td>0.323122</td>\n",
       "      <td>0.272776</td>\n",
       "      <td>0.152104</td>\n",
       "      <td>0.000000</td>\n",
       "    </tr>\n",
       "  </tbody>\n",
       "</table>\n",
       "</div>"
      ],
      "text/plain": [
       "following  checkout     dairy    drinks     fruit    spices\n",
       "location                                                   \n",
       "checkout   1.000000  0.000000  0.000000  0.000000  0.000000\n",
       "dairy      0.393033  0.000000  0.222483  0.189357  0.195127\n",
       "drinks     0.537260  0.027145  0.000000  0.218950  0.216645\n",
       "fruit      0.500195  0.237993  0.136080  0.000000  0.125732\n",
       "spices     0.251998  0.323122  0.272776  0.152104  0.000000"
      ]
     },
     "execution_count": 49,
     "metadata": {},
     "output_type": "execute_result"
    }
   ],
   "source": [
    "mycrosstab.iloc[0] = np.array([1.0, 0.0, 0.0, 0.0, 0.0])\n",
    "mycrosstab"
   ]
  },
  {
   "cell_type": "code",
   "execution_count": 122,
   "id": "5ab73bf8-b815-461c-aea4-9fa2776798fd",
   "metadata": {},
   "outputs": [],
   "source": [
    "import seaborn as sns"
   ]
  },
  {
   "cell_type": "code",
   "execution_count": 130,
   "id": "81d499c1-448b-4dca-984a-4c9fb112157b",
   "metadata": {},
   "outputs": [
    {
     "data": {
      "text/plain": [
       "<AxesSubplot:xlabel='following', ylabel='location'>"
      ]
     },
     "execution_count": 130,
     "metadata": {},
     "output_type": "execute_result"
    },
    {
     "data": {
      "image/png": "[encoded data removed]",
      "text/plain": [
       "<Figure size 432x288 with 2 Axes>"
      ]
     },
     "metadata": {
      "needs_background": "light"
     },
     "output_type": "display_data"
    }
   ],
   "source": [
    "sns.heatmap(mycrosstab, annot=True)"
   ]
  },
  {
   "cell_type": "code",
   "execution_count": 131,
   "id": "354d8674-32d5-43a5-aabf-8f13bafa4b09",
   "metadata": {},
   "outputs": [
    {
     "data": {
      "text/plain": [
       "<AxesSubplot:xlabel='following', ylabel='location'>"
      ]
     },
     "execution_count": 131,
     "metadata": {},
     "output_type": "execute_result"
    },
    {
     "data": {
      "image/png": "[encoded data removed]",
      "text/plain": [
       "<Figure size 432x288 with 2 Axes>"
      ]
     },
     "metadata": {
      "needs_background": "light"
     },
     "output_type": "display_data"
    }
   ],
   "source": [
    "sns.heatmap(myentry, annot=True)"
   ]
  },
  {
   "cell_type": "code",
   "execution_count": 113,
   "id": "63e8c752-abd4-4b96-b2b2-8724e03ba9c0",
   "metadata": {},
   "outputs": [
    {
     "name": "stdout",
     "output_type": "stream",
     "text": [
      "['checkout', 'dairy', 'drinks', 'fruit', 'spices']\n",
      "1.0 [1.0, 0.0, 0.0, 0.0, 0.0]\n",
      "1.0 [0.3930326992947211, 0.0, 0.22248343663175893, 0.18935670014960462, 0.19512716392391535]\n",
      "1.0 [0.5372599231754162, 0.02714468629961588, 0.0, 0.21895006402048656, 0.21664532650448143]\n",
      "1.0 [0.5001952362358454, 0.23799297149550958, 0.13607965638422492, 0.0, 0.12573213588442014]\n",
      "1.0 [0.25199786893979753, 0.3231220031965903, 0.27277570591369205, 0.15210442194992008, 0.0]\n",
      "\n",
      "1.0 [0.0, 0.28747984954325634, 0.15354648038688876, 0.37748522299838794, 0.18148844707146694]\n"
     ]
    }
   ],
   "source": [
    "print(list(mycrosstab.index.values))\n",
    "for index, row in mycrosstab.iterrows():\n",
    "    print(row.sum(), list(row))\n",
    "\n",
    "print('')\n",
    "print(myentry.iloc[0].sum(), list(myentry.iloc[0]))"
   ]
  },
  {
   "cell_type": "markdown",
   "id": "263310fb-5ac5-4066-b439-1bdfef810520",
   "metadata": {},
   "source": [
    "### test simulation"
   ]
  },
  {
   "cell_type": "code",
   "execution_count": 78,
   "id": "aa82d6c8-8081-4ba2-bfbc-d7d05fd3b534",
   "metadata": {},
   "outputs": [],
   "source": [
    "E = np.array([\n",
    "            [0.0, 0.28747985, 0.15354648, 0.37748522, 0.18148845],\n",
    "            [0.0, 0.0, 0.0, 0.0, 0.0],\n",
    "            [0.0, 0.0, 0.0, 0.0, 0.0],\n",
    "            [0.0, 0.0, 0.0, 0.0, 0.0],\n",
    "            [0.0, 0.0, 0.0, 0.0, 0.0]\n",
    "        ])"
   ]
  },
  {
   "cell_type": "code",
   "execution_count": 79,
   "id": "3dc42de9-0c26-43f7-96c7-30fab446c9c1",
   "metadata": {},
   "outputs": [],
   "source": [
    "T = np.array([\n",
    "            [1.0, 0.0, 0.0, 0.0, 0.0],\n",
    "            [0.3930326992947211, 0.0, 0.22248343663175893, 0.18935670014960462, 0.19512716392391535],\n",
    "            [0.5372599231754162, 0.02714468629961588, 0.0, 0.21895006402048656, 0.21664532650448143],\n",
    "            [0.5001952362358454, 0.23799297149550958, 0.13607965638422492, 0.0, 0.12573213588442014],\n",
    "            [0.25199786893979753, 0.3231220031965903, 0.27277570591369205, 0.15210442194992008, 0.0]\n",
    "        ])"
   ]
  },
  {
   "cell_type": "code",
   "execution_count": 106,
   "id": "74f709bb-173b-46b8-b67e-a3af6ecc9d03",
   "metadata": {},
   "outputs": [
    {
     "name": "stdout",
     "output_type": "stream",
     "text": [
      "[1000    0    0    0    0] 1000\n",
      "[  0. 287. 154. 377. 181.] 1000.0\n",
      "[430. 153. 165. 116. 137.] 1000.0000000000001\n",
      "[671.  76.  87.  86.  80.] 1000.0000000000001\n",
      "[811.  49.  50.  46.  45.] 1000.0000000000002\n",
      "[891.  27.  29.  27.  26.] 1000.0000000000001\n",
      "[937.  16.  17.  15.  15.] 1000.0000000000001\n",
      "[964.   9.  10.   9.   9.] 1000.0000000000001\n",
      "[979.   5.   6.   5.   5.] 1000.0000000000003\n",
      "[988.   3.   3.   3.   3.] 1000.0000000000003\n",
      "[993.   2.   2.   2.   2.] 1000.0000000000003\n",
      "[996.   1.   1.   1.   1.] 1000.0000000000003\n",
      "[998.   1.   1.   1.   1.] 1000.0000000000003\n",
      "[999.   0.   0.   0.   0.] 1000.0000000000003\n",
      "[999.   0.   0.   0.   0.] 1000.0000000000003\n",
      "[1000.    0.    0.    0.    0.] 1000.0000000000006\n"
     ]
    }
   ],
   "source": [
    "n = 1000\n",
    "s = np.array([n, 0, 0, 0, 0])\n",
    "print(s, s.sum())\n",
    "\n",
    "s = s.dot(E)\n",
    "print(s.round(), s.sum())\n",
    "\n",
    "while s[0].round() < n:\n",
    "    s = s.dot(T)\n",
    "    print(s.round(), s.sum())"
   ]
  },
  {
   "cell_type": "code",
   "execution_count": null,
   "id": "11b9bb1a-2d2e-4d5c-ba33-feba7cadd325",
   "metadata": {},
   "outputs": [],
   "source": []
  },
  {
   "cell_type": "code",
   "execution_count": null,
   "id": "abb6be90-03dd-42f6-9987-1436b5000bfe",
   "metadata": {},
   "outputs": [],
   "source": []
  },
  {
   "cell_type": "code",
   "execution_count": null,
   "id": "05ef7a23-69fa-408c-94b8-7fec6dfddebc",
   "metadata": {},
   "outputs": [],
   "source": []
  }
 ],
 "metadata": {
  "kernelspec": {
   "display_name": "Python 3",
   "language": "python",
   "name": "python3"
  },
  "language_info": {
   "codemirror_mode": {
    "name": "ipython",
    "version": 3
   },
   "file_extension": ".py",
   "mimetype": "text/x-python",
   "name": "python",
   "nbconvert_exporter": "python",
   "pygments_lexer": "ipython3",
   "version": "3.8.8"
  }
 },
 "nbformat": 4,
 "nbformat_minor": 5
}
